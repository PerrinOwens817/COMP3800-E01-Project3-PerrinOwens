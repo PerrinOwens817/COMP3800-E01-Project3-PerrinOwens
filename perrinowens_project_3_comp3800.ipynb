{
 "cells": [
  {
   "cell_type": "code",
   "execution_count": null,
   "metadata": {
    "id": "3tkDsUBMbLl8"
   },
   "outputs": [],
   "source": [
    "# The dataset that I am choosing is Mobile Device Usage and User Behavior Dataset\n",
    "#https://www.kaggle.com/datasets/valakhorasani/mobile-device-usage-and-user-behavior-dataset/data"
   ]
  },
  {
   "cell_type": "markdown",
   "metadata": {
    "id": "GwoTk0jRcaeG"
   },
   "source": [
    "1. Problem statement. Describe the dataset, analyze the target variable, and state your prediction goal.  5 points\n",
    "\n",
    "\n",
    "**Describe the dataset**\n",
    "\n",
    "The dataset contains 700 entries with 11 columns:\n",
    "\n",
    "* User ID - A unique identifier for each user.\n",
    "Device Model - The model of the mobile device (e.g., Google Pixel 5, iPhone 12).\n",
    "* Operating System - The device's operating system (Android or iOS).\n",
    "* App Usage Time (min/day) - Average daily app usage time in minutes.\n",
    "* Screen On Time (hours/day) - Average daily screen-on time in hours.\n",
    "* Battery Drain (mAh/day) - The target variable, representing the average daily battery drain in milliamp-hours (mAh).\n",
    "* Number of Apps Installed - The total number of installed apps on the device.\n",
    "* Data Usage (MB/day) - Average daily data usage in megabytes.\n",
    "* Age - The user’s age in years.\n",
    "* Gender - The user’s gender (Male or Female).\n",
    "* User Behavior Class - A categorical variable representing different user behavior classes.\n",
    "\n",
    "**Target Variable Analysis**\n",
    "\n",
    "The Battery Drain (mAh/day) has a mean of 1525 mAh, ranging from 302 to 2993 mAh. This wide range suggests variability in battery consumption across users, likely influenced by screen time, app usage, data usage, and device characteristics.\n",
    "\n",
    "**My Prediction Goal**\n",
    "\n",
    "The goal is to build a predictive model to estimate Battery Drain based on factors such as app usage, screen time, data usage, device characteristics, and user demographics. A reliable model could help mobile manufacturers and app developers optimize app performance and prolong battery life."
   ]
  },
  {
   "cell_type": "code",
   "execution_count": null,
   "metadata": {
    "colab": {
     "base_uri": "https://localhost:8080/"
    },
    "id": "OqEo-ofYUdlj",
    "outputId": "8ef5ec70-7974-48ee-f45c-7825897fa571"
   },
   "outputs": [
    {
     "name": "stdout",
     "output_type": "stream",
     "text": [
      "   User ID    Device Model Operating System  App Usage Time (min/day)  \\\n",
      "0        1  Google Pixel 5          Android                       393   \n",
      "1        2       OnePlus 9          Android                       268   \n",
      "2        3    Xiaomi Mi 11          Android                       154   \n",
      "3        4  Google Pixel 5          Android                       239   \n",
      "4        5       iPhone 12              iOS                       187   \n",
      "\n",
      "   Screen On Time (hours/day)  Battery Drain (mAh/day)  \\\n",
      "0                         6.4                     1872   \n",
      "1                         4.7                     1331   \n",
      "2                         4.0                      761   \n",
      "3                         4.8                     1676   \n",
      "4                         4.3                     1367   \n",
      "\n",
      "   Number of Apps Installed  Data Usage (MB/day)  Age  Gender  \\\n",
      "0                        67                 1122   40    Male   \n",
      "1                        42                  944   47  Female   \n",
      "2                        32                  322   42    Male   \n",
      "3                        56                  871   20    Male   \n",
      "4                        58                  988   31  Female   \n",
      "\n",
      "   User Behavior Class  \n",
      "0                    4  \n",
      "1                    3  \n",
      "2                    2  \n",
      "3                    3  \n",
      "4                    3  \n"
     ]
    }
   ],
   "source": [
    "# Loading the data\n",
    "\n",
    "import pandas as pd\n",
    "\n",
    "file_path = '/content/user_behavior_dataset.csv'\n",
    "df = pd.read_csv(file_path)\n",
    "\n",
    "\n",
    "print(df.head())"
   ]
  },
  {
   "cell_type": "code",
   "execution_count": null,
   "metadata": {
    "colab": {
     "base_uri": "https://localhost:8080/"
    },
    "id": "3vkRsHFVqQ7V",
    "outputId": "e1182ed3-09fe-4e22-a61d-61ded623b1a1"
   },
   "outputs": [
    {
     "data": {
      "text/plain": [
       "(700, 11)"
      ]
     },
     "execution_count": 48,
     "metadata": {},
     "output_type": "execute_result"
    }
   ],
   "source": [
    "df.shape"
   ]
  },
  {
   "cell_type": "code",
   "execution_count": null,
   "metadata": {
    "colab": {
     "base_uri": "https://localhost:8080/"
    },
    "id": "xPhaycgVrYjl",
    "outputId": "6c37eb0e-be89-468e-8523-b1550eaa8e91"
   },
   "outputs": [
    {
     "name": "stdout",
     "output_type": "stream",
     "text": [
      "<class 'pandas.core.frame.DataFrame'>\n",
      "RangeIndex: 700 entries, 0 to 699\n",
      "Data columns (total 11 columns):\n",
      " #   Column                      Non-Null Count  Dtype  \n",
      "---  ------                      --------------  -----  \n",
      " 0   User ID                     700 non-null    int64  \n",
      " 1   Device Model                700 non-null    object \n",
      " 2   Operating System            700 non-null    object \n",
      " 3   App Usage Time (min/day)    700 non-null    int64  \n",
      " 4   Screen On Time (hours/day)  700 non-null    float64\n",
      " 5   Battery Drain (mAh/day)     700 non-null    int64  \n",
      " 6   Number of Apps Installed    700 non-null    int64  \n",
      " 7   Data Usage (MB/day)         700 non-null    int64  \n",
      " 8   Age                         700 non-null    int64  \n",
      " 9   Gender                      700 non-null    object \n",
      " 10  User Behavior Class         700 non-null    int64  \n",
      "dtypes: float64(1), int64(7), object(3)\n",
      "memory usage: 60.3+ KB\n"
     ]
    }
   ],
   "source": [
    "df.info()"
   ]
  },
  {
   "cell_type": "code",
   "execution_count": null,
   "metadata": {
    "colab": {
     "base_uri": "https://localhost:8080/",
     "height": 355
    },
    "id": "NAsJN-07rdDz",
    "outputId": "48ae3612-d9f9-475f-db70-49ad821cf35d"
   },
   "outputs": [
    {
     "data": {
      "application/vnd.google.colaboratory.intrinsic+json": {
       "summary": "{\n  \"name\": \"df\",\n  \"rows\": 8,\n  \"fields\": [\n    {\n      \"column\": \"User ID\",\n      \"properties\": {\n        \"dtype\": \"number\",\n        \"std\": 251.97866391627107,\n        \"min\": 1.0,\n        \"max\": 700.0,\n        \"num_unique_values\": 6,\n        \"samples\": [\n          700.0,\n          350.5,\n          525.25\n        ],\n        \"semantic_type\": \"\",\n        \"description\": \"\"\n      }\n    },\n    {\n      \"column\": \"App Usage Time (min/day)\",\n      \"properties\": {\n        \"dtype\": \"number\",\n        \"std\": 236.91767058989325,\n        \"min\": 30.0,\n        \"max\": 700.0,\n        \"num_unique_values\": 8,\n        \"samples\": [\n          271.12857142857143,\n          227.5,\n          700.0\n        ],\n        \"semantic_type\": \"\",\n        \"description\": \"\"\n      }\n    },\n    {\n      \"column\": \"Screen On Time (hours/day)\",\n      \"properties\": {\n        \"dtype\": \"number\",\n        \"std\": 245.68540754371344,\n        \"min\": 1.0,\n        \"max\": 700.0,\n        \"num_unique_values\": 8,\n        \"samples\": [\n          5.272714285714286,\n          4.9,\n          700.0\n        ],\n        \"semantic_type\": \"\",\n        \"description\": \"\"\n      }\n    },\n    {\n      \"column\": \"Battery Drain (mAh/day)\",\n      \"properties\": {\n        \"dtype\": \"number\",\n        \"std\": 904.2432531190871,\n        \"min\": 302.0,\n        \"max\": 2993.0,\n        \"num_unique_values\": 8,\n        \"samples\": [\n          1525.1585714285713,\n          1502.5,\n          700.0\n        ],\n        \"semantic_type\": \"\",\n        \"description\": \"\"\n      }\n    },\n    {\n      \"column\": \"Number of Apps Installed\",\n      \"properties\": {\n        \"dtype\": \"number\",\n        \"std\": 232.2817628173073,\n        \"min\": 10.0,\n        \"max\": 700.0,\n        \"num_unique_values\": 8,\n        \"samples\": [\n          50.68142857142857,\n          49.0,\n          700.0\n        ],\n        \"semantic_type\": \"\",\n        \"description\": \"\"\n      }\n    },\n    {\n      \"column\": \"Data Usage (MB/day)\",\n      \"properties\": {\n        \"dtype\": \"number\",\n        \"std\": 733.6975691630008,\n        \"min\": 102.0,\n        \"max\": 2497.0,\n        \"num_unique_values\": 8,\n        \"samples\": [\n          929.7428571428571,\n          823.5,\n          700.0\n        ],\n        \"semantic_type\": \"\",\n        \"description\": \"\"\n      }\n    },\n    {\n      \"column\": \"Age\",\n      \"properties\": {\n        \"dtype\": \"number\",\n        \"std\": 235.7425821163052,\n        \"min\": 12.012915932142542,\n        \"max\": 700.0,\n        \"num_unique_values\": 8,\n        \"samples\": [\n          38.48285714285714,\n          38.0,\n          700.0\n        ],\n        \"semantic_type\": \"\",\n        \"description\": \"\"\n      }\n    },\n    {\n      \"column\": \"User Behavior Class\",\n      \"properties\": {\n        \"dtype\": \"number\",\n        \"std\": 246.511486924161,\n        \"min\": 1.0,\n        \"max\": 700.0,\n        \"num_unique_values\": 8,\n        \"samples\": [\n          2.99,\n          3.0,\n          700.0\n        ],\n        \"semantic_type\": \"\",\n        \"description\": \"\"\n      }\n    }\n  ]\n}",
       "type": "dataframe"
      },
      "text/html": [
       "\n",
       "  <div id=\"df-18221e8a-2e56-44d9-aba2-590c8a33f4e1\" class=\"colab-df-container\">\n",
       "    <div>\n",
       "<style scoped>\n",
       "    .dataframe tbody tr th:only-of-type {\n",
       "        vertical-align: middle;\n",
       "    }\n",
       "\n",
       "    .dataframe tbody tr th {\n",
       "        vertical-align: top;\n",
       "    }\n",
       "\n",
       "    .dataframe thead th {\n",
       "        text-align: right;\n",
       "    }\n",
       "</style>\n",
       "<table border=\"1\" class=\"dataframe\">\n",
       "  <thead>\n",
       "    <tr style=\"text-align: right;\">\n",
       "      <th></th>\n",
       "      <th>User ID</th>\n",
       "      <th>App Usage Time (min/day)</th>\n",
       "      <th>Screen On Time (hours/day)</th>\n",
       "      <th>Battery Drain (mAh/day)</th>\n",
       "      <th>Number of Apps Installed</th>\n",
       "      <th>Data Usage (MB/day)</th>\n",
       "      <th>Age</th>\n",
       "      <th>User Behavior Class</th>\n",
       "    </tr>\n",
       "  </thead>\n",
       "  <tbody>\n",
       "    <tr>\n",
       "      <th>count</th>\n",
       "      <td>700.00000</td>\n",
       "      <td>700.000000</td>\n",
       "      <td>700.000000</td>\n",
       "      <td>700.000000</td>\n",
       "      <td>700.000000</td>\n",
       "      <td>700.000000</td>\n",
       "      <td>700.000000</td>\n",
       "      <td>700.000000</td>\n",
       "    </tr>\n",
       "    <tr>\n",
       "      <th>mean</th>\n",
       "      <td>350.50000</td>\n",
       "      <td>271.128571</td>\n",
       "      <td>5.272714</td>\n",
       "      <td>1525.158571</td>\n",
       "      <td>50.681429</td>\n",
       "      <td>929.742857</td>\n",
       "      <td>38.482857</td>\n",
       "      <td>2.990000</td>\n",
       "    </tr>\n",
       "    <tr>\n",
       "      <th>std</th>\n",
       "      <td>202.21688</td>\n",
       "      <td>177.199484</td>\n",
       "      <td>3.068584</td>\n",
       "      <td>819.136414</td>\n",
       "      <td>26.943324</td>\n",
       "      <td>640.451729</td>\n",
       "      <td>12.012916</td>\n",
       "      <td>1.401476</td>\n",
       "    </tr>\n",
       "    <tr>\n",
       "      <th>min</th>\n",
       "      <td>1.00000</td>\n",
       "      <td>30.000000</td>\n",
       "      <td>1.000000</td>\n",
       "      <td>302.000000</td>\n",
       "      <td>10.000000</td>\n",
       "      <td>102.000000</td>\n",
       "      <td>18.000000</td>\n",
       "      <td>1.000000</td>\n",
       "    </tr>\n",
       "    <tr>\n",
       "      <th>25%</th>\n",
       "      <td>175.75000</td>\n",
       "      <td>113.250000</td>\n",
       "      <td>2.500000</td>\n",
       "      <td>722.250000</td>\n",
       "      <td>26.000000</td>\n",
       "      <td>373.000000</td>\n",
       "      <td>28.000000</td>\n",
       "      <td>2.000000</td>\n",
       "    </tr>\n",
       "    <tr>\n",
       "      <th>50%</th>\n",
       "      <td>350.50000</td>\n",
       "      <td>227.500000</td>\n",
       "      <td>4.900000</td>\n",
       "      <td>1502.500000</td>\n",
       "      <td>49.000000</td>\n",
       "      <td>823.500000</td>\n",
       "      <td>38.000000</td>\n",
       "      <td>3.000000</td>\n",
       "    </tr>\n",
       "    <tr>\n",
       "      <th>75%</th>\n",
       "      <td>525.25000</td>\n",
       "      <td>434.250000</td>\n",
       "      <td>7.400000</td>\n",
       "      <td>2229.500000</td>\n",
       "      <td>74.000000</td>\n",
       "      <td>1341.000000</td>\n",
       "      <td>49.000000</td>\n",
       "      <td>4.000000</td>\n",
       "    </tr>\n",
       "    <tr>\n",
       "      <th>max</th>\n",
       "      <td>700.00000</td>\n",
       "      <td>598.000000</td>\n",
       "      <td>12.000000</td>\n",
       "      <td>2993.000000</td>\n",
       "      <td>99.000000</td>\n",
       "      <td>2497.000000</td>\n",
       "      <td>59.000000</td>\n",
       "      <td>5.000000</td>\n",
       "    </tr>\n",
       "  </tbody>\n",
       "</table>\n",
       "</div>\n",
       "    <div class=\"colab-df-buttons\">\n",
       "\n",
       "  <div class=\"colab-df-container\">\n",
       "    <button class=\"colab-df-convert\" onclick=\"convertToInteractive('df-18221e8a-2e56-44d9-aba2-590c8a33f4e1')\"\n",
       "            title=\"Convert this dataframe to an interactive table.\"\n",
       "            style=\"display:none;\">\n",
       "\n",
       "  <svg xmlns=\"http://www.w3.org/2000/svg\" height=\"24px\" viewBox=\"0 -960 960 960\">\n",
       "    <path d=\"M120-120v-720h720v720H120Zm60-500h600v-160H180v160Zm220 220h160v-160H400v160Zm0 220h160v-160H400v160ZM180-400h160v-160H180v160Zm440 0h160v-160H620v160ZM180-180h160v-160H180v160Zm440 0h160v-160H620v160Z\"/>\n",
       "  </svg>\n",
       "    </button>\n",
       "\n",
       "  <style>\n",
       "    .colab-df-container {\n",
       "      display:flex;\n",
       "      gap: 12px;\n",
       "    }\n",
       "\n",
       "    .colab-df-convert {\n",
       "      background-color: #E8F0FE;\n",
       "      border: none;\n",
       "      border-radius: 50%;\n",
       "      cursor: pointer;\n",
       "      display: none;\n",
       "      fill: #1967D2;\n",
       "      height: 32px;\n",
       "      padding: 0 0 0 0;\n",
       "      width: 32px;\n",
       "    }\n",
       "\n",
       "    .colab-df-convert:hover {\n",
       "      background-color: #E2EBFA;\n",
       "      box-shadow: 0px 1px 2px rgba(60, 64, 67, 0.3), 0px 1px 3px 1px rgba(60, 64, 67, 0.15);\n",
       "      fill: #174EA6;\n",
       "    }\n",
       "\n",
       "    .colab-df-buttons div {\n",
       "      margin-bottom: 4px;\n",
       "    }\n",
       "\n",
       "    [theme=dark] .colab-df-convert {\n",
       "      background-color: #3B4455;\n",
       "      fill: #D2E3FC;\n",
       "    }\n",
       "\n",
       "    [theme=dark] .colab-df-convert:hover {\n",
       "      background-color: #434B5C;\n",
       "      box-shadow: 0px 1px 3px 1px rgba(0, 0, 0, 0.15);\n",
       "      filter: drop-shadow(0px 1px 2px rgba(0, 0, 0, 0.3));\n",
       "      fill: #FFFFFF;\n",
       "    }\n",
       "  </style>\n",
       "\n",
       "    <script>\n",
       "      const buttonEl =\n",
       "        document.querySelector('#df-18221e8a-2e56-44d9-aba2-590c8a33f4e1 button.colab-df-convert');\n",
       "      buttonEl.style.display =\n",
       "        google.colab.kernel.accessAllowed ? 'block' : 'none';\n",
       "\n",
       "      async function convertToInteractive(key) {\n",
       "        const element = document.querySelector('#df-18221e8a-2e56-44d9-aba2-590c8a33f4e1');\n",
       "        const dataTable =\n",
       "          await google.colab.kernel.invokeFunction('convertToInteractive',\n",
       "                                                    [key], {});\n",
       "        if (!dataTable) return;\n",
       "\n",
       "        const docLinkHtml = 'Like what you see? Visit the ' +\n",
       "          '<a target=\"_blank\" href=https://colab.research.google.com/notebooks/data_table.ipynb>data table notebook</a>'\n",
       "          + ' to learn more about interactive tables.';\n",
       "        element.innerHTML = '';\n",
       "        dataTable['output_type'] = 'display_data';\n",
       "        await google.colab.output.renderOutput(dataTable, element);\n",
       "        const docLink = document.createElement('div');\n",
       "        docLink.innerHTML = docLinkHtml;\n",
       "        element.appendChild(docLink);\n",
       "      }\n",
       "    </script>\n",
       "  </div>\n",
       "\n",
       "\n",
       "<div id=\"df-db4d3b16-7aee-4400-8153-4a164daa523f\">\n",
       "  <button class=\"colab-df-quickchart\" onclick=\"quickchart('df-db4d3b16-7aee-4400-8153-4a164daa523f')\"\n",
       "            title=\"Suggest charts\"\n",
       "            style=\"display:none;\">\n",
       "\n",
       "<svg xmlns=\"http://www.w3.org/2000/svg\" height=\"24px\"viewBox=\"0 0 24 24\"\n",
       "     width=\"24px\">\n",
       "    <g>\n",
       "        <path d=\"M19 3H5c-1.1 0-2 .9-2 2v14c0 1.1.9 2 2 2h14c1.1 0 2-.9 2-2V5c0-1.1-.9-2-2-2zM9 17H7v-7h2v7zm4 0h-2V7h2v10zm4 0h-2v-4h2v4z\"/>\n",
       "    </g>\n",
       "</svg>\n",
       "  </button>\n",
       "\n",
       "<style>\n",
       "  .colab-df-quickchart {\n",
       "      --bg-color: #E8F0FE;\n",
       "      --fill-color: #1967D2;\n",
       "      --hover-bg-color: #E2EBFA;\n",
       "      --hover-fill-color: #174EA6;\n",
       "      --disabled-fill-color: #AAA;\n",
       "      --disabled-bg-color: #DDD;\n",
       "  }\n",
       "\n",
       "  [theme=dark] .colab-df-quickchart {\n",
       "      --bg-color: #3B4455;\n",
       "      --fill-color: #D2E3FC;\n",
       "      --hover-bg-color: #434B5C;\n",
       "      --hover-fill-color: #FFFFFF;\n",
       "      --disabled-bg-color: #3B4455;\n",
       "      --disabled-fill-color: #666;\n",
       "  }\n",
       "\n",
       "  .colab-df-quickchart {\n",
       "    background-color: var(--bg-color);\n",
       "    border: none;\n",
       "    border-radius: 50%;\n",
       "    cursor: pointer;\n",
       "    display: none;\n",
       "    fill: var(--fill-color);\n",
       "    height: 32px;\n",
       "    padding: 0;\n",
       "    width: 32px;\n",
       "  }\n",
       "\n",
       "  .colab-df-quickchart:hover {\n",
       "    background-color: var(--hover-bg-color);\n",
       "    box-shadow: 0 1px 2px rgba(60, 64, 67, 0.3), 0 1px 3px 1px rgba(60, 64, 67, 0.15);\n",
       "    fill: var(--button-hover-fill-color);\n",
       "  }\n",
       "\n",
       "  .colab-df-quickchart-complete:disabled,\n",
       "  .colab-df-quickchart-complete:disabled:hover {\n",
       "    background-color: var(--disabled-bg-color);\n",
       "    fill: var(--disabled-fill-color);\n",
       "    box-shadow: none;\n",
       "  }\n",
       "\n",
       "  .colab-df-spinner {\n",
       "    border: 2px solid var(--fill-color);\n",
       "    border-color: transparent;\n",
       "    border-bottom-color: var(--fill-color);\n",
       "    animation:\n",
       "      spin 1s steps(1) infinite;\n",
       "  }\n",
       "\n",
       "  @keyframes spin {\n",
       "    0% {\n",
       "      border-color: transparent;\n",
       "      border-bottom-color: var(--fill-color);\n",
       "      border-left-color: var(--fill-color);\n",
       "    }\n",
       "    20% {\n",
       "      border-color: transparent;\n",
       "      border-left-color: var(--fill-color);\n",
       "      border-top-color: var(--fill-color);\n",
       "    }\n",
       "    30% {\n",
       "      border-color: transparent;\n",
       "      border-left-color: var(--fill-color);\n",
       "      border-top-color: var(--fill-color);\n",
       "      border-right-color: var(--fill-color);\n",
       "    }\n",
       "    40% {\n",
       "      border-color: transparent;\n",
       "      border-right-color: var(--fill-color);\n",
       "      border-top-color: var(--fill-color);\n",
       "    }\n",
       "    60% {\n",
       "      border-color: transparent;\n",
       "      border-right-color: var(--fill-color);\n",
       "    }\n",
       "    80% {\n",
       "      border-color: transparent;\n",
       "      border-right-color: var(--fill-color);\n",
       "      border-bottom-color: var(--fill-color);\n",
       "    }\n",
       "    90% {\n",
       "      border-color: transparent;\n",
       "      border-bottom-color: var(--fill-color);\n",
       "    }\n",
       "  }\n",
       "</style>\n",
       "\n",
       "  <script>\n",
       "    async function quickchart(key) {\n",
       "      const quickchartButtonEl =\n",
       "        document.querySelector('#' + key + ' button');\n",
       "      quickchartButtonEl.disabled = true;  // To prevent multiple clicks.\n",
       "      quickchartButtonEl.classList.add('colab-df-spinner');\n",
       "      try {\n",
       "        const charts = await google.colab.kernel.invokeFunction(\n",
       "            'suggestCharts', [key], {});\n",
       "      } catch (error) {\n",
       "        console.error('Error during call to suggestCharts:', error);\n",
       "      }\n",
       "      quickchartButtonEl.classList.remove('colab-df-spinner');\n",
       "      quickchartButtonEl.classList.add('colab-df-quickchart-complete');\n",
       "    }\n",
       "    (() => {\n",
       "      let quickchartButtonEl =\n",
       "        document.querySelector('#df-db4d3b16-7aee-4400-8153-4a164daa523f button');\n",
       "      quickchartButtonEl.style.display =\n",
       "        google.colab.kernel.accessAllowed ? 'block' : 'none';\n",
       "    })();\n",
       "  </script>\n",
       "</div>\n",
       "\n",
       "    </div>\n",
       "  </div>\n"
      ],
      "text/plain": [
       "         User ID  App Usage Time (min/day)  Screen On Time (hours/day)  \\\n",
       "count  700.00000                700.000000                  700.000000   \n",
       "mean   350.50000                271.128571                    5.272714   \n",
       "std    202.21688                177.199484                    3.068584   \n",
       "min      1.00000                 30.000000                    1.000000   \n",
       "25%    175.75000                113.250000                    2.500000   \n",
       "50%    350.50000                227.500000                    4.900000   \n",
       "75%    525.25000                434.250000                    7.400000   \n",
       "max    700.00000                598.000000                   12.000000   \n",
       "\n",
       "       Battery Drain (mAh/day)  Number of Apps Installed  Data Usage (MB/day)  \\\n",
       "count               700.000000                700.000000           700.000000   \n",
       "mean               1525.158571                 50.681429           929.742857   \n",
       "std                 819.136414                 26.943324           640.451729   \n",
       "min                 302.000000                 10.000000           102.000000   \n",
       "25%                 722.250000                 26.000000           373.000000   \n",
       "50%                1502.500000                 49.000000           823.500000   \n",
       "75%                2229.500000                 74.000000          1341.000000   \n",
       "max                2993.000000                 99.000000          2497.000000   \n",
       "\n",
       "              Age  User Behavior Class  \n",
       "count  700.000000           700.000000  \n",
       "mean    38.482857             2.990000  \n",
       "std     12.012916             1.401476  \n",
       "min     18.000000             1.000000  \n",
       "25%     28.000000             2.000000  \n",
       "50%     38.000000             3.000000  \n",
       "75%     49.000000             4.000000  \n",
       "max     59.000000             5.000000  "
      ]
     },
     "execution_count": 50,
     "metadata": {},
     "output_type": "execute_result"
    }
   ],
   "source": [
    "df.describe()"
   ]
  },
  {
   "cell_type": "code",
   "execution_count": null,
   "metadata": {
    "colab": {
     "base_uri": "https://localhost:8080/"
    },
    "id": "8w23p-7CV5K0",
    "outputId": "79cf6770-1f54-431b-d5cc-b5054231ade2"
   },
   "outputs": [
    {
     "name": "stdout",
     "output_type": "stream",
     "text": [
      "['Google Pixel 5' 'OnePlus 9' 'Xiaomi Mi 11' 'iPhone 12'\n",
      " 'Samsung Galaxy S21']\n",
      "['Android' 'iOS']\n",
      "['Male' 'Female']\n"
     ]
    }
   ],
   "source": [
    "categorical_columns = df.select_dtypes('object').columns.to_list()\n",
    "\n",
    "for col in categorical_columns:\n",
    "    print(df[col].unique())\n"
   ]
  },
  {
   "cell_type": "markdown",
   "metadata": {
    "id": "Wv7duLKLUZO5"
   },
   "source": [
    "2. Basic data cleaning.  Drop unwanted features.  Address missing values.  Remove Duplicates. Check if there are any inconsistent inputs for categorical variables. Transform categorical variables into numeric. Use boxplots or histogram to identify outliers for numeric variables and remove them. 20 points\n"
   ]
  },
  {
   "cell_type": "code",
   "execution_count": null,
   "metadata": {
    "id": "S4iICFnWHUqU"
   },
   "outputs": [],
   "source": [
    "# Removing duplicates\n",
    "\n",
    "df = df.drop_duplicates()"
   ]
  },
  {
   "cell_type": "code",
   "execution_count": null,
   "metadata": {
    "colab": {
     "base_uri": "https://localhost:8080/"
    },
    "id": "kFmMIEcZUq8H",
    "outputId": "d27b16c8-175a-4c7f-9b60-227ff87f462c"
   },
   "outputs": [
    {
     "name": "stdout",
     "output_type": "stream",
     "text": [
      "     Device Model Operating System  App Usage Time (min/day)  \\\n",
      "0  Google Pixel 5          Android                       393   \n",
      "1       OnePlus 9          Android                       268   \n",
      "2    Xiaomi Mi 11          Android                       154   \n",
      "3  Google Pixel 5          Android                       239   \n",
      "4       iPhone 12              iOS                       187   \n",
      "\n",
      "   Screen On Time (hours/day)  Battery Drain (mAh/day)  \\\n",
      "0                         6.4                     1872   \n",
      "1                         4.7                     1331   \n",
      "2                         4.0                      761   \n",
      "3                         4.8                     1676   \n",
      "4                         4.3                     1367   \n",
      "\n",
      "   Number of Apps Installed  Data Usage (MB/day)  Age  Gender  \\\n",
      "0                        67                 1122   40    Male   \n",
      "1                        42                  944   47  Female   \n",
      "2                        32                  322   42    Male   \n",
      "3                        56                  871   20    Male   \n",
      "4                        58                  988   31  Female   \n",
      "\n",
      "   User Behavior Class  \n",
      "0                    4  \n",
      "1                    3  \n",
      "2                    2  \n",
      "3                    3  \n",
      "4                    3  \n",
      "(700, 10)\n"
     ]
    }
   ],
   "source": [
    "# Dropping unwanted columns. User Id\n",
    "\n",
    "df = df.drop(['User ID'], axis=1)\n",
    "\n",
    "print(df.head())\n",
    "print(df.shape)"
   ]
  },
  {
   "cell_type": "code",
   "execution_count": null,
   "metadata": {
    "colab": {
     "base_uri": "https://localhost:8080/"
    },
    "id": "-MfBLk-2XQTA",
    "outputId": "95e2340f-bf89-47d1-e8bd-5e99b90dddd5"
   },
   "outputs": [
    {
     "name": "stdout",
     "output_type": "stream",
     "text": [
      "Device Model                  0\n",
      "Operating System              0\n",
      "App Usage Time (min/day)      0\n",
      "Screen On Time (hours/day)    0\n",
      "Battery Drain (mAh/day)       0\n",
      "Number of Apps Installed      0\n",
      "Data Usage (MB/day)           0\n",
      "Age                           0\n",
      "Gender                        0\n",
      "User Behavior Class           0\n",
      "dtype: int64\n"
     ]
    }
   ],
   "source": [
    "# Addressing missing values -- Checking for missing values\n",
    "\n",
    "print(df.isnull().sum())\n"
   ]
  },
  {
   "cell_type": "code",
   "execution_count": null,
   "metadata": {
    "colab": {
     "base_uri": "https://localhost:8080/"
    },
    "id": "knQLPGqIX1zH",
    "outputId": "4efdc35a-507a-477a-d312-a501b945853d"
   },
   "outputs": [
    {
     "data": {
      "text/plain": [
       "array([4, 3, 2, 5, 1])"
      ]
     },
     "execution_count": 55,
     "metadata": {},
     "output_type": "execute_result"
    }
   ],
   "source": [
    "# Checking for inconsistent inputs in categorical variables\n",
    "\n",
    "df['Device Model'].unique()\n",
    "df['Operating System'].unique()\n",
    "df['Gender'].unique()\n",
    "df['User Behavior Class'].unique()\n",
    "\n",
    "# The User Behavior class seems to be standardized w/o any oddities\n"
   ]
  },
  {
   "cell_type": "code",
   "execution_count": null,
   "metadata": {
    "colab": {
     "base_uri": "https://localhost:8080/",
     "height": 436
    },
    "id": "U5vz6ow6jC_H",
    "outputId": "bb8f6044-5bb8-4962-9a45-bf67cb3056d2"
   },
   "outputs": [
    {
     "data": {
      "image/png": "[encoded data removed]",
      "text/plain": [
       "<Figure size 1500x1000 with 6 Axes>"
      ]
     },
     "metadata": {},
     "output_type": "display_data"
    }
   ],
   "source": [
    "# Identifying the outliers using boxplots\n",
    "\n",
    "import matplotlib.pyplot as plt\n",
    "import seaborn as sns\n",
    "\n",
    "# List of numerical features\n",
    "numerical_features = ['App Usage Time (min/day)', 'Screen On Time (hours/day)', 'Battery Drain (mAh/day)', 'Number of Apps Installed', 'Data Usage (MB/day)', 'Age']\n",
    "\n",
    "# Plotting boxplots for each numerical feature\n",
    "plt.figure(figsize=(15, 10))\n",
    "for i, feature in enumerate(numerical_features):\n",
    "    plt.subplot(2, 3, i+1)\n",
    "    sns.boxplot(x=df[feature])\n",
    "    plt.title(feature)\n",
    "plt.tight_layout()\n",
    "plt.show()\n"
   ]
  },
  {
   "cell_type": "code",
   "execution_count": null,
   "metadata": {
    "colab": {
     "base_uri": "https://localhost:8080/"
    },
    "id": "DJYCydxC0AKg",
    "outputId": "71466ba4-a75f-4311-c651-74861989039c"
   },
   "outputs": [
    {
     "name": "stdout",
     "output_type": "stream",
     "text": [
      "     Device Model Operating System  App Usage Time (min/day)  \\\n",
      "0  Google Pixel 5          Android                       393   \n",
      "1       OnePlus 9          Android                       268   \n",
      "2    Xiaomi Mi 11          Android                       154   \n",
      "3  Google Pixel 5          Android                       239   \n",
      "4       iPhone 12              iOS                       187   \n",
      "\n",
      "   Screen On Time (hours/day)  Battery Drain (mAh/day)  \\\n",
      "0                         6.4                     1872   \n",
      "1                         4.7                     1331   \n",
      "2                         4.0                      761   \n",
      "3                         4.8                     1676   \n",
      "4                         4.3                     1367   \n",
      "\n",
      "   Number of Apps Installed  Data Usage (MB/day)  Age  Gender  \\\n",
      "0                        67                 1122   40    Male   \n",
      "1                        42                  944   47  Female   \n",
      "2                        32                  322   42    Male   \n",
      "3                        56                  871   20    Male   \n",
      "4                        58                  988   31  Female   \n",
      "\n",
      "   User Behavior Class  \n",
      "0                    4  \n",
      "1                    3  \n",
      "2                    2  \n",
      "3                    3  \n",
      "4                    3  \n"
     ]
    }
   ],
   "source": [
    "# Removing the outliers\n",
    "\n",
    "# Function to remove outliers based on IQR\n",
    "def remove_outliers(df, feature):\n",
    "    Q1 = df[feature].quantile(0.25)\n",
    "    Q3 = df[feature].quantile(0.75)\n",
    "    IQR = Q3 - Q1\n",
    "    df = df[(df[feature] >= Q1 - 1.5 * IQR) & (df[feature] <= Q3 + 1.5 * IQR)]\n",
    "    return df\n",
    "\n",
    "# Removing outliers from Number of Apps Installed and Age\n",
    "df = remove_outliers(df, 'Number of Apps Installed')\n",
    "df = remove_outliers(df, 'Age')\n",
    "\n",
    "print(df.head())\n",
    "\n",
    "\n"
   ]
  },
  {
   "cell_type": "markdown",
   "metadata": {
    "id": "qWFDEbTMcNzg"
   },
   "source": [
    "3. Feature Engineering. 20 points\n",
    "Feature selection. Use graphs, ANOVA test, Chi-squared test to reduce the dimension. Any variables with zero to little variance?  Any features Irrelevant to the target variable? Any high-correlated Features?  \n",
    "Feature scaling. Does this algorithm require normalized data or standardized data?\n",
    "Are there any categorical variables need to be changed to dummy variables?\n"
   ]
  },
  {
   "cell_type": "code",
   "execution_count": null,
   "metadata": {
    "colab": {
     "base_uri": "https://localhost:8080/",
     "height": 597
    },
    "id": "-FGvhOs-43Oq",
    "outputId": "f97ec2fc-8c66-4fd0-e970-b598d3883136"
   },
   "outputs": [
    {
     "data": {
      "image/png": "[encoded data removed]",
      "text/plain": [
       "<Figure size 1200x1000 with 2 Axes>"
      ]
     },
     "metadata": {},
     "output_type": "display_data"
    }
   ],
   "source": [
    "import seaborn as sns\n",
    "import matplotlib.pyplot as plt\n",
    "\n",
    "# Select only numerical columns\n",
    "numeric_df = df.select_dtypes(include=['float64', 'int64'])\n",
    "\n",
    "# Correlation heatmap\n",
    "plt.figure(figsize=(12, 10))\n",
    "sns.heatmap(numeric_df.corr(), annot=True, cmap='coolwarm')\n",
    "plt.show()\n",
    "\n",
    "# App Usage Time (min/day) and Battery Drain (mAh/day) show a strong positive correlation.\n",
    "# Screen On Time (hours/day) also has a positive correlation with Battery Drain (mAh/day).\n",
    "# Data Usage (MB/day) and Battery Drain (mAh/day) seem fairly correlated as well.\n",
    "\n",
    "# Age is a feature with little revelance or high correlation."
   ]
  },
  {
   "cell_type": "code",
   "execution_count": null,
   "metadata": {
    "colab": {
     "base_uri": "https://localhost:8080/"
    },
    "id": "bai57xl_i1u8",
    "outputId": "75e319f1-8c9c-4fff-f2de-a244eb107add"
   },
   "outputs": [
    {
     "name": "stdout",
     "output_type": "stream",
     "text": [
      "     Device Model Operating System  App Usage Time (min/day)  \\\n",
      "0  Google Pixel 5          Android                       393   \n",
      "1       OnePlus 9          Android                       268   \n",
      "2    Xiaomi Mi 11          Android                       154   \n",
      "3  Google Pixel 5          Android                       239   \n",
      "4       iPhone 12              iOS                       187   \n",
      "\n",
      "   Screen On Time (hours/day)  Battery Drain (mAh/day)  \\\n",
      "0                         6.4                     1872   \n",
      "1                         4.7                     1331   \n",
      "2                         4.0                      761   \n",
      "3                         4.8                     1676   \n",
      "4                         4.3                     1367   \n",
      "\n",
      "   Number of Apps Installed  Data Usage (MB/day)  Gender  User Behavior Class  \n",
      "0                        67                 1122    Male                    4  \n",
      "1                        42                  944  Female                    3  \n",
      "2                        32                  322    Male                    2  \n",
      "3                        56                  871    Male                    3  \n",
      "4                        58                  988  Female                    3  \n"
     ]
    }
   ],
   "source": [
    "# Drop the Age column\n",
    "df = df.drop('Age', axis=1)\n",
    "\n",
    "# Verify the column has been dropped\n",
    "print(df.head())\n"
   ]
  },
  {
   "cell_type": "code",
   "execution_count": null,
   "metadata": {
    "colab": {
     "base_uri": "https://localhost:8080/",
     "height": 424
    },
    "id": "-TZZ0EowIXdh",
    "outputId": "da80e607-e283-4ed4-d18f-497ba00f5701"
   },
   "outputs": [
    {
     "data": {
      "image/png": "[encoded data removed]",
      "text/plain": [
       "<Figure size 1000x600 with 1 Axes>"
      ]
     },
     "metadata": {},
     "output_type": "display_data"
    }
   ],
   "source": [
    "# add a boxplot\n",
    "\n",
    "import matplotlib.pyplot as plt\n",
    "\n",
    "# Boxplot for User Behavior Class\n",
    "plt.figure(figsize=(10, 6))\n",
    "plt.boxplot(df['User Behavior Class'])\n",
    "plt.title('Boxplot of User Behavior Class')\n",
    "plt.xlabel('User Behavior Class')\n",
    "plt.ylabel('Values')\n",
    "plt.show()\n"
   ]
  },
  {
   "cell_type": "code",
   "execution_count": null,
   "metadata": {
    "colab": {
     "base_uri": "https://localhost:8080/",
     "height": 422
    },
    "id": "in39huVcimH7",
    "outputId": "0549a450-9275-406e-9632-80b1e1a5c6ff"
   },
   "outputs": [
    {
     "data": {
      "image/png": "[encoded data removed]",
      "text/plain": [
       "<Figure size 1000x600 with 1 Axes>"
      ]
     },
     "metadata": {},
     "output_type": "display_data"
    }
   ],
   "source": [
    "import matplotlib.pyplot as plt\n",
    "\n",
    "# boxplot for app usage time\n",
    "plt.figure(figsize=(10, 6))\n",
    "plt.boxplot(df['App Usage Time (min/day)'])\n",
    "plt.title('Boxplot of App Usage Time (min/day)')\n",
    "plt.xlabel('App Usage Time (min/day)')\n",
    "plt.ylabel('Values')\n",
    "plt.show()\n"
   ]
  },
  {
   "cell_type": "code",
   "execution_count": null,
   "metadata": {
    "colab": {
     "base_uri": "https://localhost:8080/"
    },
    "id": "4boU8rD3cQXk",
    "outputId": "06eea7d6-eecb-4a07-8f1f-20db1974c39a"
   },
   "outputs": [
    {
     "name": "stdout",
     "output_type": "stream",
     "text": [
      "App Usage Time (min/day): F-Statistic = 1567.2533488716126, p-value = 1.6054800753826942e-230\n",
      "Screen On Time (hours/day): F-Statistic = 2409.9133496676036, p-value = 1.7279517623583284e-306\n",
      "Number of Apps Installed: F-Statistic = 2265.6459877728157, p-value = 9.273706785403923e-295\n",
      "Data Usage (MB/day): F-Statistic = 229.53424956510923, p-value = 4.004314827991308e-48\n"
     ]
    }
   ],
   "source": [
    "# ANOVA Test --- Dont have to do this\n",
    "\n",
    "from scipy.stats import f_oneway\n",
    "\n",
    "# Separating features and target variable\n",
    "X = df[['App Usage Time (min/day)', 'Screen On Time (hours/day)', 'Number of Apps Installed', 'Data Usage (MB/day)']]\n",
    "y = df['Battery Drain (mAh/day)']\n",
    "\n",
    "# Running ANOVA test\n",
    "anova_results = {feature: f_oneway(y, X[feature]) for feature in X.columns}\n",
    "\n",
    "# Display ANOVA results\n",
    "for feature, result in anova_results.items():\n",
    "    print(f'{feature}: F-Statistic = {result.statistic}, p-value = {result.pvalue}')\n"
   ]
  },
  {
   "cell_type": "code",
   "execution_count": null,
   "metadata": {
    "colab": {
     "base_uri": "https://localhost:8080/"
    },
    "id": "_WsB00JmuK4L",
    "outputId": "29d7b012-5c7c-4ba4-97e8-fc67bc4e140c"
   },
   "outputs": [
    {
     "name": "stdout",
     "output_type": "stream",
     "text": [
      "Device Model: Chi2 = 627.440065681446, p-value = 0.48753484742844533\n",
      "Operating System: Chi2 = 513.6461187214588, p-value = 0.999660720277116\n",
      "Gender: Chi2 = 303.46794871794987, p-value = 1.0\n",
      "User Behavior Class: Chi2 = 689.9145728643177, p-value = 0.041003692188743855\n"
     ]
    }
   ],
   "source": [
    "# Chi square test -- dont need this either\n",
    "\n",
    "from sklearn.feature_selection import chi2\n",
    "from sklearn.preprocessing import LabelEncoder\n",
    "\n",
    "# Make sure all categorical features are encoded as numbers\n",
    "label_encoder = LabelEncoder()\n",
    "categorical_features = ['Device Model', 'Operating System', 'Gender', 'User Behavior Class']\n",
    "df_encoded = df.copy()\n",
    "\n",
    "for feature in categorical_features:\n",
    "    df_encoded[feature] = label_encoder.fit_transform(df[feature])\n",
    "\n",
    "# Extract the features and target\n",
    "X = df_encoded[categorical_features]\n",
    "y = df['Battery Drain (mAh/day)']\n",
    "\n",
    "# Run Chi-squared test\n",
    "chi2_scores, p_values = chi2(X, y)\n",
    "\n",
    "# Display Chi-squared test results\n",
    "for feature, chi2_score, p_value in zip(categorical_features, chi2_scores, p_values):\n",
    "    print(f'{feature}: Chi2 = {chi2_score}, p-value = {p_value}')\n",
    "\n",
    "# User Behavior Class is the obly feature with a p-value below 0.05,\n",
    "# indicating a significant association with my target variable."
   ]
  },
  {
   "cell_type": "code",
   "execution_count": null,
   "metadata": {
    "colab": {
     "base_uri": "https://localhost:8080/"
    },
    "id": "2nT4wj-Dc3WA",
    "outputId": "dee25626-0f73-4ce5-d137-34c54c8bdd2e"
   },
   "outputs": [
    {
     "name": "stdout",
     "output_type": "stream",
     "text": [
      "     Device Model Operating System  App Usage Time (min/day)  \\\n",
      "0  Google Pixel 5          Android                  0.688256   \n",
      "1       OnePlus 9          Android                 -0.017668   \n",
      "2    Xiaomi Mi 11          Android                 -0.661471   \n",
      "3  Google Pixel 5          Android                 -0.181443   \n",
      "4       iPhone 12              iOS                 -0.475107   \n",
      "\n",
      "   Screen On Time (hours/day)  Battery Drain (mAh/day)  \\\n",
      "0                    0.367626                 0.423726   \n",
      "1                   -0.186771                -0.237198   \n",
      "2                   -0.415053                -0.933550   \n",
      "3                   -0.154160                 0.184279   \n",
      "4                   -0.317218                -0.193218   \n",
      "\n",
      "   Number of Apps Installed  Data Usage (MB/day)  Gender  User Behavior Class  \n",
      "0                  0.606096             0.300405    Male                    4  \n",
      "1                 -0.322441             0.022277  Female                    3  \n",
      "2                 -0.693856            -0.949607    Male                    2  \n",
      "3                  0.197540            -0.091787    Male                    3  \n",
      "4                  0.271823             0.091028  Female                    3  \n"
     ]
    }
   ],
   "source": [
    "# Feature scaling\n",
    "\n",
    "from sklearn.preprocessing import StandardScaler\n",
    "\n",
    "# Initialize the StandardScaler\n",
    "scaler = StandardScaler()\n",
    "\n",
    "# Standardize the data\n",
    "numerical_features = ['App Usage Time (min/day)', 'Screen On Time (hours/day)', 'Battery Drain (mAh/day)', 'Number of Apps Installed', 'Data Usage (MB/day)']\n",
    "df[numerical_features] = scaler.fit_transform(df[numerical_features])\n",
    "\n",
    "print(df.head())\n"
   ]
  },
  {
   "cell_type": "code",
   "execution_count": null,
   "metadata": {
    "colab": {
     "base_uri": "https://localhost:8080/"
    },
    "id": "k3Q_zHjl8DXN",
    "outputId": "65c3aa16-4874-4c8a-cf43-b65b300661ba"
   },
   "outputs": [
    {
     "name": "stdout",
     "output_type": "stream",
     "text": [
      "   App Usage Time (min/day)  Screen On Time (hours/day)  \\\n",
      "0                  0.688256                    0.367626   \n",
      "1                 -0.017668                   -0.186771   \n",
      "2                 -0.661471                   -0.415053   \n",
      "3                 -0.181443                   -0.154160   \n",
      "4                 -0.475107                   -0.317218   \n",
      "\n",
      "   Battery Drain (mAh/day)  Number of Apps Installed  Data Usage (MB/day)  \\\n",
      "0                 0.423726                  0.606096             0.300405   \n",
      "1                -0.237198                 -0.322441             0.022277   \n",
      "2                -0.933550                 -0.693856            -0.949607   \n",
      "3                 0.184279                  0.197540            -0.091787   \n",
      "4                -0.193218                  0.271823             0.091028   \n",
      "\n",
      "   Device Model_OnePlus 9  Device Model_Samsung Galaxy S21  \\\n",
      "0                   False                            False   \n",
      "1                    True                            False   \n",
      "2                   False                            False   \n",
      "3                   False                            False   \n",
      "4                   False                            False   \n",
      "\n",
      "   Device Model_Xiaomi Mi 11  Device Model_iPhone 12  Operating System_iOS  \\\n",
      "0                      False                   False                 False   \n",
      "1                      False                   False                 False   \n",
      "2                       True                   False                 False   \n",
      "3                      False                   False                 False   \n",
      "4                      False                    True                  True   \n",
      "\n",
      "   Gender_Male  User Behavior Class_2  User Behavior Class_3  \\\n",
      "0         True                  False                  False   \n",
      "1        False                  False                   True   \n",
      "2         True                   True                  False   \n",
      "3         True                  False                   True   \n",
      "4        False                  False                   True   \n",
      "\n",
      "   User Behavior Class_4  User Behavior Class_5  \n",
      "0                   True                  False  \n",
      "1                  False                  False  \n",
      "2                  False                  False  \n",
      "3                  False                  False  \n",
      "4                  False                  False  \n"
     ]
    }
   ],
   "source": [
    "# Dummy variables\n",
    "\n",
    "# Transform categorical variables into dummy variables\n",
    "df = pd.get_dummies(df, columns=['Device Model', 'Operating System', 'Gender', 'User Behavior Class'], drop_first=True)\n",
    "print(df.head())"
   ]
  },
  {
   "cell_type": "markdown",
   "metadata": {
    "id": "J7Taaav9wJff"
   },
   "source": [
    "4. Build the prediction model. 20 points\n",
    "Does this data need to be balanced?\n",
    "Do you use train_test_split or cross validation to validate the result?\n",
    "Which algorithm is appropriate for this problem?\n",
    "Which metrics do you use to evaluate the prediction model?\n",
    "If the accuracy score or r-squared score is low, generally it is considered as a bad model. Explain why your model failed.\n"
   ]
  },
  {
   "cell_type": "markdown",
   "metadata": {
    "id": "td1gFdsWwma8"
   },
   "source": [
    "**Does this data need to be balanced?**\n",
    "\n",
    "No, balancing isn't necessary here because baterry drain is a continuous variable, not a categorical one.\n",
    "\n",
    "**Do you use train_test_split or cross validation to validate the result?**\n",
    "\n",
    "Cross validation\n",
    "\n",
    "**Which algorithm is appropriate for this problem?**\n",
    "\n",
    "Linear Regression and Random Forest\n",
    "\n",
    "**Which metrics do you use to evaluate the prediction model?**\n",
    "\n",
    "R-squared and Mean squared error\n",
    "\n",
    "**If the accuracy score or R-squared score is low, generally it is considered a bad model. Explain why your model failed.**\n"
   ]
  },
  {
   "cell_type": "code",
   "execution_count": null,
   "metadata": {
    "colab": {
     "base_uri": "https://localhost:8080/"
    },
    "id": "mENTGmW9f5fU",
    "outputId": "fc41c882-afd5-444e-ca3e-43b63d848abf"
   },
   "outputs": [
    {
     "name": "stdout",
     "output_type": "stream",
     "text": [
      "Linear Regression - MSE: 0.040270025317645085, R^2: 0.9565200969988449\n",
      "Random Forest Regression - MSE: 0.04517500870183725, R^2: 0.9512241429962159\n"
     ]
    }
   ],
   "source": [
    "from sklearn.model_selection import cross_val_score, train_test_split\n",
    "from sklearn.linear_model import LinearRegression\n",
    "from sklearn.ensemble import RandomForestRegressor\n",
    "from sklearn.metrics import mean_squared_error, r2_score\n",
    "\n",
    "# Splitting the data\n",
    "X = df.drop('Battery Drain (mAh/day)', axis=1)\n",
    "y = df['Battery Drain (mAh/day)']\n",
    "X_train, X_test, y_train, y_test = train_test_split(X, y, test_size=0.2, random_state=42)\n",
    "\n",
    "# Linear Regression\n",
    "lr_model = LinearRegression()\n",
    "lr_model.fit(X_train, y_train)\n",
    "y_pred_lr = lr_model.predict(X_test)\n",
    "\n",
    "# Random Forest Regression\n",
    "rf_model = RandomForestRegressor(n_estimators=100, random_state=42)\n",
    "rf_model.fit(X_train, y_train)\n",
    "y_pred_rf = rf_model.predict(X_test)\n",
    "\n",
    "# Evaluating the models\n",
    "mse_lr = mean_squared_error(y_test, y_pred_lr)\n",
    "r2_lr = r2_score(y_test, y_pred_lr)\n",
    "\n",
    "mse_rf = mean_squared_error(y_test, y_pred_rf)\n",
    "r2_rf = r2_score(y_test, y_pred_rf)\n",
    "\n",
    "print(f'Linear Regression - MSE: {mse_lr}, R^2: {r2_lr}')\n",
    "print(f'Random Forest Regression - MSE: {mse_rf}, R^2: {r2_rf}')\n"
   ]
  },
  {
   "cell_type": "code",
   "execution_count": null,
   "metadata": {
    "id": "x7d6PKzjr1Ma"
   },
   "outputs": [],
   "source": [
    "# GradientBoosting is the new algorithm that I picked."
   ]
  },
  {
   "cell_type": "code",
   "execution_count": null,
   "metadata": {
    "colab": {
     "base_uri": "https://localhost:8080/"
    },
    "id": "5fXKp92MXlZu",
    "outputId": "fbe14d25-4b5b-424a-93ba-797fdd2af8a9"
   },
   "outputs": [
    {
     "name": "stdout",
     "output_type": "stream",
     "text": [
      "Gradient Boosting - MSE: 0.04548686952012388, R^2: 0.9508874241086065\n"
     ]
    }
   ],
   "source": [
    "from sklearn.model_selection import train_test_split, cross_val_score\n",
    "from sklearn.ensemble import GradientBoostingRegressor\n",
    "from sklearn.metrics import mean_squared_error, r2_score\n",
    "\n",
    "# Splitting the data\n",
    "X = df.drop('Battery Drain (mAh/day)', axis=1)\n",
    "y = df['Battery Drain (mAh/day)']\n",
    "X_train, X_test, y_train, y_test = train_test_split(X, y, test_size=0.2, random_state=42)\n",
    "\n",
    "# Gradient Boosting Regressor\n",
    "gb_model = GradientBoostingRegressor(n_estimators=100, learning_rate=0.1, max_depth=3, random_state=42)\n",
    "gb_model.fit(X_train, y_train)\n",
    "y_pred_gb = gb_model.predict(X_test)\n",
    "\n",
    "# Evaluating the model\n",
    "mse_gb = mean_squared_error(y_test, y_pred_gb)\n",
    "r2_gb = r2_score(y_test, y_pred_gb)\n",
    "\n",
    "print(f'Gradient Boosting - MSE: {mse_gb}, R^2: {r2_gb}')\n"
   ]
  },
  {
   "cell_type": "code",
   "execution_count": null,
   "metadata": {
    "id": "SVMCvOSNyryY"
   },
   "outputs": [],
   "source": [
    "# My model explains about 95% of the variance in the data.\n",
    "\n",
    "# App Usage Time, Screen On Time, and Data Usage showed strong correlations\n",
    "# with battery drain. Categorical features like User Behavior Class\n",
    "# significantly impacted battery performance."
   ]
  },
  {
   "cell_type": "code",
   "execution_count": null,
   "metadata": {
    "colab": {
     "base_uri": "https://localhost:8080/",
     "height": 17
    },
    "id": "PTocUYn8QsK2",
    "outputId": "fc85abe9-23a0-4a64-973b-2f3b6e95d438"
   },
   "outputs": [
    {
     "data": {
      "application/javascript": "\n    async function download(id, filename, size) {\n      if (!google.colab.kernel.accessAllowed) {\n        return;\n      }\n      const div = document.createElement('div');\n      const label = document.createElement('label');\n      label.textContent = `Downloading \"${filename}\": `;\n      div.appendChild(label);\n      const progress = document.createElement('progress');\n      progress.max = size;\n      div.appendChild(progress);\n      document.body.appendChild(div);\n\n      const buffers = [];\n      let downloaded = 0;\n\n      const channel = await google.colab.kernel.comms.open(id);\n      // Send a message to notify the kernel that we're ready.\n      channel.send({})\n\n      for await (const message of channel.messages) {\n        // Send a message to notify the kernel that we're ready.\n        channel.send({})\n        if (message.buffers) {\n          for (const buffer of message.buffers) {\n            buffers.push(buffer);\n            downloaded += buffer.byteLength;\n            progress.value = downloaded;\n          }\n        }\n      }\n      const blob = new Blob(buffers, {type: 'application/binary'});\n      const a = document.createElement('a');\n      a.href = window.URL.createObjectURL(blob);\n      a.download = filename;\n      div.appendChild(a);\n      a.click();\n      div.remove();\n    }\n  ",
      "text/plain": [
       "<IPython.core.display.Javascript object>"
      ]
     },
     "metadata": {},
     "output_type": "display_data"
    },
    {
     "data": {
      "application/javascript": "download(\"download_a643d53c-ec6c-4d6a-b279-cbfe9b127889\", \"scaler.pkl\", 1222)",
      "text/plain": [
       "<IPython.core.display.Javascript object>"
      ]
     },
     "metadata": {},
     "output_type": "display_data"
    },
    {
     "data": {
      "application/javascript": "\n    async function download(id, filename, size) {\n      if (!google.colab.kernel.accessAllowed) {\n        return;\n      }\n      const div = document.createElement('div');\n      const label = document.createElement('label');\n      label.textContent = `Downloading \"${filename}\": `;\n      div.appendChild(label);\n      const progress = document.createElement('progress');\n      progress.max = size;\n      div.appendChild(progress);\n      document.body.appendChild(div);\n\n      const buffers = [];\n      let downloaded = 0;\n\n      const channel = await google.colab.kernel.comms.open(id);\n      // Send a message to notify the kernel that we're ready.\n      channel.send({})\n\n      for await (const message of channel.messages) {\n        // Send a message to notify the kernel that we're ready.\n        channel.send({})\n        if (message.buffers) {\n          for (const buffer of message.buffers) {\n            buffers.push(buffer);\n            downloaded += buffer.byteLength;\n            progress.value = downloaded;\n          }\n        }\n      }\n      const blob = new Blob(buffers, {type: 'application/binary'});\n      const a = document.createElement('a');\n      a.href = window.URL.createObjectURL(blob);\n      a.download = filename;\n      div.appendChild(a);\n      a.click();\n      div.remove();\n    }\n  ",
      "text/plain": [
       "<IPython.core.display.Javascript object>"
      ]
     },
     "metadata": {},
     "output_type": "display_data"
    },
    {
     "data": {
      "application/javascript": "download(\"download_fbff9e36-196e-4d31-b4b1-1974f2b6105a\", \"model.pkl\", 130727)",
      "text/plain": [
       "<IPython.core.display.Javascript object>"
      ]
     },
     "metadata": {},
     "output_type": "display_data"
    }
   ],
   "source": [
    "import pandas as pd\n",
    "from sklearn.model_selection import train_test_split\n",
    "from sklearn.preprocessing import StandardScaler\n",
    "from sklearn.ensemble import GradientBoostingRegressor\n",
    "import pickle\n",
    "\n",
    "# Feature selection and data preparation\n",
    "X = df.drop('Battery Drain (mAh/day)', axis=1)\n",
    "y = df['Battery Drain (mAh/day)']\n",
    "\n",
    "# Split the data\n",
    "X_train, X_test, y_train, y_test = train_test_split(X, y, test_size=0.2, random_state=42)\n",
    "\n",
    "# Scale the data\n",
    "scaler = StandardScaler()\n",
    "X_train_scaled = scaler.fit_transform(X_train)\n",
    "X_test_scaled = scaler.transform(X_test)\n",
    "\n",
    "# Train the model\n",
    "model = GradientBoostingRegressor(n_estimators=100, learning_rate=0.1, max_depth=3, random_state=42)\n",
    "model.fit(X_train_scaled, y_train)\n",
    "\n",
    "# Save the scaler and model\n",
    "with open('scaler.pkl', 'wb') as f:\n",
    "    pickle.dump(scaler, f)\n",
    "with open('model.pkl', 'wb') as f:\n",
    "    pickle.dump(model, f)\n",
    "# Save the feature names\n",
    "feature_names = X.columns.tolist()\n",
    "with open('feature_names.pkl', 'wb') as f:\n",
    "  pickle.dump(feature_names, f)\n",
    "\n",
    "\n"
   ]
  },
  {
   "cell_type": "code",
   "execution_count": null,
   "metadata": {
    "colab": {
     "base_uri": "https://localhost:8080/"
    },
    "id": "3e-k6amgVkO9",
    "outputId": "576ccd46-cc64-4b59-e638-7bc058218513"
   },
   "outputs": [
    {
     "name": "stdout",
     "output_type": "stream",
     "text": [
      "Best parameters: {'learning_rate': 0.1, 'max_depth': 3, 'n_estimators': 50}\n",
      "Best cross-validation R^2 score: 0.9551728857259312\n",
      "Final Model - MSE: 0.04353600019298283, R^2: 0.9529937949996834\n"
     ]
    }
   ],
   "source": [
    "import pandas as pd\n",
    "from sklearn.model_selection import train_test_split, GridSearchCV\n",
    "from sklearn.preprocessing import StandardScaler\n",
    "from sklearn.ensemble import GradientBoostingRegressor\n",
    "\n",
    "# Load and preprocess your data\n",
    "# (Assuming you've already done this step and have your `df` ready)\n",
    "\n",
    "# Define the features and target variable\n",
    "X = df.drop('Battery Drain (mAh/day)', axis=1)\n",
    "y = df['Battery Drain (mAh/day)']\n",
    "\n",
    "# Split the data into training and testing sets\n",
    "X_train, X_test, y_train, y_test = train_test_split(X, y, test_size=0.2, random_state=42)\n",
    "\n",
    "# Scale the data\n",
    "scaler = StandardScaler()\n",
    "X_train_scaled = scaler.fit_transform(X_train)\n",
    "X_test_scaled = scaler.transform(X_test)\n",
    "\n",
    "# Hyperparameter tuning with GridSearchCV\n",
    "param_grid = {\n",
    "    'n_estimators': [50, 100, 200],\n",
    "    'learning_rate': [0.01, 0.1, 0.2],\n",
    "    'max_depth': [3, 4, 5]\n",
    "}\n",
    "\n",
    "grid_search = GridSearchCV(GradientBoostingRegressor(random_state=42), param_grid, cv=5, scoring='r2')\n",
    "grid_search.fit(X_train_scaled, y_train)\n",
    "\n",
    "print(f\"Best parameters: {grid_search.best_params_}\")\n",
    "print(f\"Best cross-validation R^2 score: {grid_search.best_score_}\")\n",
    "\n",
    "# Train the final model with the best parameters\n",
    "best_params = grid_search.best_params_\n",
    "model = GradientBoostingRegressor(**best_params, random_state=42)\n",
    "model.fit(X_train_scaled, y_train)\n",
    "\n",
    "# Evaluate the model on the test set\n",
    "y_pred = model.predict(X_test_scaled)\n",
    "mse = mean_squared_error(y_test, y_pred)\n",
    "r2 = r2_score(y_test, y_pred)\n",
    "\n",
    "print(f'Final Model - MSE: {mse}, R^2: {r2}')\n"
   ]
  },
  {
   "cell_type": "code",
   "execution_count": null,
   "metadata": {
    "id": "fziIZ0nbTzmX"
   },
   "outputs": [],
   "source": [
    "# Im debugging at this point"
   ]
  },
  {
   "cell_type": "code",
   "execution_count": null,
   "metadata": {
    "colab": {
     "base_uri": "https://localhost:8080/"
    },
    "id": "rnxty8KqR_5R",
    "outputId": "3a92a726-fa4a-4181-d8c4-bdb8858049a2"
   },
   "outputs": [
    {
     "name": "stdout",
     "output_type": "stream",
     "text": [
      "Feature ranking:\n",
      "1. feature Screen On Time (hours/day) (0.5479322305080954)\n",
      "2. feature App Usage Time (min/day) (0.32438225480360794)\n",
      "3. feature Data Usage (MB/day) (0.06872882132079643)\n",
      "4. feature Number of Apps Installed (0.05114542339857626)\n",
      "5. feature User Behavior Class_5 (0.006702671373053155)\n",
      "6. feature User Behavior Class_4 (0.0004091951409272477)\n",
      "7. feature Device Model_Xiaomi Mi 11 (0.00024587563286220226)\n",
      "8. feature Device Model_Samsung Galaxy S21 (0.00019849644166158143)\n",
      "9. feature User Behavior Class_2 (0.00010930702994389566)\n",
      "10. feature User Behavior Class_3 (8.853869425458423e-05)\n",
      "11. feature Device Model_OnePlus 9 (3.46682657555329e-05)\n",
      "12. feature Device Model_iPhone 12 (2.2517390465801525e-05)\n",
      "13. feature Gender_Male (0.0)\n",
      "14. feature Operating System_iOS (0.0)\n"
     ]
    }
   ],
   "source": [
    "import numpy as np\n",
    "\n",
    "importances = model.feature_importances_\n",
    "feature_names = X.columns\n",
    "\n",
    "# Sort the feature importances in descending order\n",
    "indices = np.argsort(importances)[::-1]\n",
    "\n",
    "# Print the feature ranking\n",
    "print(\"Feature ranking:\")\n",
    "\n",
    "for i in range(X.shape[1]):\n",
    "    print(f\"{i + 1}. feature {feature_names[indices[i]]} ({importances[indices[i]]})\")\n"
   ]
  },
  {
   "cell_type": "code",
   "execution_count": null,
   "metadata": {
    "colab": {
     "base_uri": "https://localhost:8080/"
    },
    "id": "IHRSXUPwSTq9",
    "outputId": "61d34724-7570-4ddf-983d-b2a5d4194fe3"
   },
   "outputs": [
    {
     "name": "stdout",
     "output_type": "stream",
     "text": [
      "Cross-Validation R^2 Scores: [0.95193021 0.96291826 0.96116138 0.95287271 0.94941447]\n",
      "Mean R^2 Score: 0.95565940549123\n"
     ]
    }
   ],
   "source": [
    "from sklearn.model_selection import cross_val_score\n",
    "\n",
    "cv_scores = cross_val_score(model, X, y, cv=5, scoring='r2')\n",
    "print(f\"Cross-Validation R^2 Scores: {cv_scores}\")\n",
    "print(f\"Mean R^2 Score: {cv_scores.mean()}\")\n"
   ]
  },
  {
   "cell_type": "code",
   "execution_count": null,
   "metadata": {
    "colab": {
     "base_uri": "https://localhost:8080/"
    },
    "id": "LUwtNKK_Tq_v",
    "outputId": "3ccf845a-3c7c-43f2-f0f1-aecdb8a67f98"
   },
   "outputs": [
    {
     "name": "stdout",
     "output_type": "stream",
     "text": [
      "Actual: 1.038226471559907, Predicted: 0.8551007983107366\n",
      "Actual: -1.4124451854457214, Predicted: -1.2926317605241973\n",
      "Actual: -1.3293715699540052, Predicted: -1.2884149172944703\n",
      "Actual: -0.7722896778330847, Predicted: -0.7563484980449521\n",
      "Actual: -0.04417387146451312, Predicted: 0.15177920475021237\n"
     ]
    }
   ],
   "source": [
    "\n",
    "# Select a batch of data from the test set\n",
    "X_batch = X_test.iloc[:5]\n",
    "y_batch = y_test.iloc[:5]\n",
    "\n",
    "# Scale the batch data using the same scaler used during training\n",
    "X_batch_scaled = scaler.transform(X_batch)\n",
    "\n",
    "# Make predictions\n",
    "predictions = model.predict(X_batch_scaled)\n",
    "\n",
    "# Compare predictions with actual values\n",
    "for actual, predicted in zip(y_batch, predictions):\n",
    "    print(f\"Actual: {actual}, Predicted: {predicted}\")\n"
   ]
  },
  {
   "cell_type": "code",
   "execution_count": null,
   "metadata": {
    "colab": {
     "base_uri": "https://localhost:8080/"
    },
    "id": "AKoBpi6R576B",
    "outputId": "4b5b55ae-e270-4175-c86f-bc7e04b2c907"
   },
   "outputs": [
    {
     "data": {
      "text/plain": [
       "array([ 7.05696202e-01, -3.51740924e-02, -6.00317776e-01, -1.78710318e-03,\n",
       "       -1.07045227e-01, -8.30552704e-01,  7.30228637e-01,  1.48449047e+00,\n",
       "        7.23349081e-01,  7.25114482e-01, -1.30464103e+00, -1.75843631e-03,\n",
       "        7.49121658e-01,  1.81299723e-02,  3.40387195e-02,  1.34490481e+00,\n",
       "       -8.73048736e-01, -1.70839150e-02, -1.29263176e+00,  1.42525302e+00,\n",
       "       -1.00587640e+00,  1.45396273e+00,  7.25787401e-01, -3.48626656e-02,\n",
       "       -4.33259416e-04, -7.02380839e-01,  7.99924279e-01,  1.32531611e+00,\n",
       "        7.46899475e-01,  6.45005690e-01,  1.45338124e-01,  7.06577115e-02,\n",
       "       -1.99099365e-03, -1.30464103e+00,  1.36939335e+00, -1.29954397e+00,\n",
       "       -8.07902660e-01,  1.42316376e+00,  7.99158716e-01,  7.05696202e-01,\n",
       "        6.32859567e-03,  1.40588122e+00, -8.34353055e-01, -7.54884103e-01,\n",
       "       -7.53516122e-01,  1.31104161e+00,  1.38533634e+00, -8.20956020e-01,\n",
       "        1.40094052e+00,  1.41572660e+00,  6.16927143e-01,  6.17253414e-02,\n",
       "       -8.39919034e-01, -7.27163374e-01,  1.40292707e+00, -1.29263176e+00,\n",
       "       -1.29263176e+00,  1.45461965e+00,  7.34132768e-01,  6.23022378e-01,\n",
       "        1.46453519e+00,  7.23349081e-01, -1.28841492e+00,  1.49232186e+00,\n",
       "        7.55453744e-01, -4.50187629e-02,  2.02860459e-02, -7.64788779e-01,\n",
       "        1.33540310e+00, -1.29263176e+00,  6.06122849e-01,  1.40024584e+00,\n",
       "        7.49121658e-01, -1.26081134e+00, -1.30464103e+00, -1.19667331e-01,\n",
       "       -1.30558017e+00, -9.56168318e-01, -1.29263176e+00, -1.51684416e-01,\n",
       "        1.38533634e+00, -7.08365648e-01,  7.23349081e-01, -1.30558017e+00,\n",
       "       -5.21796958e-02,  6.41230098e-01, -7.81979017e-01, -1.30979702e+00,\n",
       "       -7.88021266e-01,  7.04231703e-01, -9.26678650e-01, -6.16957797e-02,\n",
       "       -1.29263176e+00, -7.67503572e-01,  7.33367850e-01,  7.23349081e-01,\n",
       "        1.43514111e+00,  1.26225890e+00, -1.29263176e+00, -2.65227585e-02,\n",
       "       -1.29954397e+00, -3.76642027e-02, -7.90720938e-01,  2.41885803e-02,\n",
       "       -6.84564108e-01, -1.28841492e+00, -8.07509965e-01, -1.30464103e+00,\n",
       "       -6.06553004e-03,  1.55844599e-01, -8.00073252e-01,  1.33777641e+00,\n",
       "       -2.19335114e-02, -8.45043594e-01,  7.54725416e-01, -8.98197428e-01,\n",
       "       -1.29263176e+00, -2.84149842e-02, -1.29263176e+00, -8.05065760e-01,\n",
       "        7.18907844e-01,  1.44052434e+00,  1.34764719e+00,  1.44615957e+00,\n",
       "        2.79400476e-02,  1.45103284e+00,  7.29555718e-01, -5.52143069e-02,\n",
       "       -8.51973949e-01, -8.15154325e-01,  1.43226385e+00,  7.23349081e-01,\n",
       "       -7.54884103e-01, -1.29263176e+00, -1.28841492e+00,  1.41980087e+00,\n",
       "       -1.29263176e+00, -1.90327125e-02,  1.46124927e+00,  1.32615397e+00,\n",
       "       -2.20218257e-02,  7.33687832e-01, -7.83540449e-01, -1.29263176e+00,\n",
       "        1.30938532e+00,  3.35181469e-02,  7.93717642e-01, -1.30042419e+00,\n",
       "       -1.73612912e-02, -7.80440184e-01,  1.37691763e+00, -1.30979702e+00,\n",
       "       -8.34353055e-01,  7.23349081e-01, -1.30450933e+00, -7.56348498e-01,\n",
       "       -1.28841492e+00,  7.23349081e-01,  8.55100798e-01, -9.32690655e-01,\n",
       "       -1.29263176e+00, -1.30042419e+00,  7.46899475e-01, -1.30979702e+00,\n",
       "       -1.52877115e-04,  1.40681430e+00,  1.57220263e+00, -1.30979702e+00,\n",
       "       -2.90866533e-02,  1.42152568e+00, -7.48961146e-01, -1.29438799e+00,\n",
       "       -6.84996421e-01,  7.09634604e-01, -1.30042419e+00, -2.19335114e-02,\n",
       "       -3.56564404e-02, -1.65798162e-02, -1.44250176e-02,  1.46651953e+00,\n",
       "       -7.42771278e-01,  8.07712985e-01,  1.45440341e+00, -1.29263176e+00,\n",
       "        1.55346664e+00,  1.37969167e+00,  6.78883975e-01, -1.29263176e+00,\n",
       "       -9.16415284e-01, -1.29954397e+00, -8.55494524e-01, -1.29263176e+00,\n",
       "        6.12778781e-01, -1.61840513e-01,  7.38468204e-01,  1.65361387e-02,\n",
       "       -1.52073679e-01, -6.94658281e-01, -1.29263176e+00, -7.14002120e-01,\n",
       "        1.45815578e+00, -7.23418781e-01, -1.28841492e+00, -1.29263176e+00,\n",
       "       -8.29895291e-01,  7.17443345e-01, -1.29263176e+00, -9.06607442e-01,\n",
       "        1.44029805e+00, -8.22818348e-03,  7.29518242e-01,  1.33432108e+00,\n",
       "       -7.86270728e-01, -1.29532713e+00, -7.16748966e-01,  1.42623314e+00,\n",
       "        6.70329706e-01,  1.42601643e+00,  1.30591334e+00, -8.73096468e-01,\n",
       "        7.28227031e-01, -7.85586314e-01,  6.39371600e-01,  1.46900039e+00,\n",
       "       -8.03741062e-01,  1.38822007e+00,  7.24813581e-01, -3.65066204e-03,\n",
       "       -7.77674918e-01,  6.48643191e-01, -7.46500786e-01,  1.46745591e+00,\n",
       "        1.43720455e+00, -6.68661451e-01, -7.43315037e-01, -1.30558017e+00,\n",
       "        1.32690929e+00,  7.31693137e-01, -1.29263176e+00,  1.44171020e+00,\n",
       "       -1.30979702e+00,  1.41255657e+00, -8.16796940e-01,  7.46899475e-01,\n",
       "       -1.26629969e+00, -1.01321348e-02, -1.29263176e+00,  6.03904999e-01,\n",
       "       -4.51230325e-01, -1.29263176e+00, -1.30979702e+00,  8.84556928e-01,\n",
       "        1.32472899e+00, -7.97264091e-01, -1.29438799e+00,  7.33367850e-01,\n",
       "        7.31693137e-01, -1.38582051e-02,  4.24714297e-02,  1.37467166e+00,\n",
       "       -1.28841492e+00,  7.23649982e-01,  1.47106237e+00, -1.29263176e+00,\n",
       "        7.23649982e-01,  1.44860400e+00, -4.67095703e-02,  1.44752243e+00,\n",
       "        1.00546659e-02,  7.03427966e-01,  6.58217332e-01, -7.14881310e-02,\n",
       "       -7.72493396e-01, -6.20960403e-01, -8.43286790e-01,  1.39362502e+00,\n",
       "        7.90088375e-02, -6.16957797e-02, -1.28841492e+00,  7.24813581e-01,\n",
       "       -1.29263176e+00, -1.30558017e+00,  7.31020218e-01, -1.29438799e+00,\n",
       "        7.71631748e-01,  1.43946019e+00,  6.23022378e-01, -7.98262904e-04,\n",
       "       -8.86590140e-01, -1.29263176e+00,  8.00597198e-01, -1.30464103e+00,\n",
       "       -1.29263176e+00, -4.38761900e-03,  1.41975158e+00, -1.29263176e+00,\n",
       "        7.46899475e-01, -7.88140594e-01, -2.19335114e-02, -8.36061285e-01,\n",
       "        7.25787401e-01,  9.10807690e-03,  7.62418909e-01,  1.42991524e+00,\n",
       "       -7.36047877e-01, -8.32407167e-01, -1.93696166e-02,  7.24813581e-01,\n",
       "       -1.93532810e-02,  7.25787401e-01, -6.16957797e-02,  7.29555718e-01,\n",
       "       -7.71278829e-01, -8.77676778e-01,  1.15278807e-02, -1.30872617e+00,\n",
       "        9.03342210e-02, -7.72493396e-01,  6.52923999e-01,  1.35193206e+00,\n",
       "       -1.37898735e-01,  1.51779205e-01,  6.03904999e-01, -1.28841492e+00,\n",
       "        6.92415600e-01, -2.78860899e-02,  2.12811384e-01, -1.30464103e+00,\n",
       "       -1.29263176e+00,  1.44808080e+00, -1.74671069e-03, -7.46391656e-01,\n",
       "        2.11067785e-01,  7.46899475e-01, -1.30979702e+00,  1.40681430e+00,\n",
       "        8.65347705e-01, -1.26629969e+00,  7.06268750e-01, -1.29263176e+00,\n",
       "       -1.29263176e+00,  1.54444276e+00,  1.49670195e+00,  1.51779205e-01,\n",
       "       -4.72646461e-02,  7.29555718e-01, -7.69818667e-01, -1.29263176e+00,\n",
       "       -7.99104255e-01,  7.30228637e-01,  7.46899475e-01, -1.29263176e+00,\n",
       "       -8.43207395e-03,  7.09333703e-01, -1.30464103e+00, -1.27519442e+00,\n",
       "       -6.16957797e-02,  1.37848863e+00, -1.29263176e+00, -1.78710318e-03,\n",
       "        1.50063342e+00,  1.38533634e+00, -1.28841492e+00,  7.86054740e-01,\n",
       "        1.41572660e+00,  7.09333703e-01,  1.35410027e+00,  1.55547131e+00,\n",
       "       -8.32204388e-01, -7.99104255e-01,  1.42912957e+00,  1.42355798e+00,\n",
       "        1.35928502e+00,  1.49888882e+00, -1.29263176e+00, -1.29954397e+00,\n",
       "       -1.29263176e+00,  5.88741616e-01,  1.29058206e+00, -8.45189690e-01,\n",
       "        5.49375818e-02,  1.32818483e+00, -1.29263176e+00, -8.73846036e-01,\n",
       "       -7.43762931e-01,  6.62959470e-01, -8.28037043e-01, -1.29263176e+00,\n",
       "        1.50307496e+00, -8.40972847e-01,  7.33624903e-01,  7.00062112e-01,\n",
       "       -7.36047877e-01,  7.36435275e-01,  1.41572660e+00,  6.05394522e-01,\n",
       "       -1.28841492e+00,  1.46583651e+00, -1.30979702e+00, -1.30464103e+00,\n",
       "        1.38803602e+00, -8.38936021e-01,  7.31020218e-01,  1.39320193e+00,\n",
       "        1.43019372e+00,  9.83159200e-01, -7.17345274e-01,  6.97093633e-01,\n",
       "        7.23349081e-01,  6.41230098e-01,  1.49702696e+00,  1.44453187e+00,\n",
       "       -1.28881439e-02, -1.60130037e-02, -7.48197414e-01, -8.35757436e-01,\n",
       "       -1.38582051e-02,  1.42977344e+00,  1.79260818e-02, -1.29263176e+00,\n",
       "       -1.30979702e+00, -8.41358925e-01,  7.26308216e-01, -1.29017115e+00,\n",
       "        5.81263352e-02, -7.09774464e-01, -8.60097317e-01, -7.66752077e-01,\n",
       "       -7.56818227e-01,  1.46405969e+00,  3.21529359e-02, -8.51621569e-01,\n",
       "        1.45987355e+00, -1.30464103e+00,  1.35374450e+00, -7.82223868e-01,\n",
       "       -5.26504121e-02, -1.30979702e+00, -8.60605507e-01, -7.74686385e-01,\n",
       "       -2.84215853e-02, -4.07831733e-02, -1.29263176e+00, -5.52143069e-02,\n",
       "        1.35385382e+00,  6.09006999e-01,  1.36703166e+00,  4.45549164e-02,\n",
       "       -8.72406308e-01, -1.29954397e+00, -5.83269105e-01,  1.52090632e+00,\n",
       "       -8.64669645e-01, -1.29263176e+00, -6.17711576e-01, -1.29263176e+00,\n",
       "       -1.29263176e+00,  7.25826439e-03, -1.29263176e+00, -7.90720938e-01,\n",
       "        1.37071099e+00, -8.60854988e-01,  1.68727495e-01, -1.74671069e-03,\n",
       "       -1.28841492e+00,  7.29865687e-03,  7.33367850e-01, -5.52143069e-02,\n",
       "        6.12778781e-01, -1.30558017e+00, -8.22818348e-03,  1.42893447e+00,\n",
       "       -8.06769772e-01, -2.19335114e-02,  3.10525254e-02,  7.14250471e-01,\n",
       "        7.17443345e-01, -5.52143069e-02, -1.08798185e-02,  1.07669211e-01,\n",
       "       -7.69818667e-01,  1.47683177e+00,  1.43987900e+00, -1.28841492e+00,\n",
       "        5.88741616e-01, -1.28841492e+00, -8.78979558e-01, -5.52143069e-02,\n",
       "        6.12778781e-01,  1.38832727e+00,  7.10080881e-01, -7.16748966e-01,\n",
       "       -1.28841492e+00,  7.17443345e-01, -7.48197414e-01,  1.46598716e+00,\n",
       "        6.75802588e-03, -7.76994522e-01, -3.98234496e-02, -6.98084894e-01,\n",
       "       -1.29263176e+00,  7.24813581e-01,  1.41535174e+00, -1.65798162e-02,\n",
       "        1.41991343e+00,  7.24322901e-01, -7.93769734e-03, -1.30558017e+00,\n",
       "        6.82068142e-02,  1.31686981e+00,  4.45549164e-02,  1.41361530e+00,\n",
       "       -1.30979702e+00, -7.79313244e-01,  7.46899475e-01, -8.02514329e-01,\n",
       "       -8.25893478e-01, -1.29263176e+00,  1.44453187e+00, -7.82557295e-01,\n",
       "        8.62867920e-01, -1.29263176e+00,  6.06873044e-01,  1.37912859e+00,\n",
       "       -2.19335114e-02, -5.60405457e-02, -8.73846036e-01, -1.29954397e+00,\n",
       "       -7.88140594e-01, -1.74671069e-03,  1.45481134e+00,  7.30228637e-01,\n",
       "        7.28101583e-01,  9.83647936e-02,  7.01526612e-01, -7.26981975e-01,\n",
       "        7.41273219e-02,  1.45550842e+00,  1.36829464e+00,  1.49605698e+00,\n",
       "        1.44878837e+00, -8.00169274e-01, -2.90866533e-02, -2.90866533e-02,\n",
       "        1.38825439e+00, -1.30464103e+00,  6.13293618e-04, -8.59341431e-01,\n",
       "        7.18907844e-01, -5.57861726e-01,  7.33687832e-01, -7.17735310e-01,\n",
       "       -8.34213081e-01,  7.24813581e-01,  6.35324362e-01,  9.76246113e-03,\n",
       "       -8.19162356e-01, -3.69314575e-02,  7.16213259e-01,  1.39087512e+00,\n",
       "        7.05696202e-01, -6.72257185e-01, -1.29263176e+00, -1.30464103e+00,\n",
       "       -4.44003040e-02, -1.29263176e+00, -6.09709442e-01, -1.29263176e+00,\n",
       "       -2.90866533e-02,  7.18907844e-01,  7.46899475e-01,  7.29518242e-01,\n",
       "        7.22318163e-02,  1.47683177e+00,  1.44807229e+00, -8.38208389e-01,\n",
       "        1.43303731e+00,  7.22419896e-01,  1.66785473e-01, -1.29438799e+00,\n",
       "        1.32528455e+00, -8.71912239e-01, -8.85590434e-02, -1.29263176e+00,\n",
       "       -1.29263176e+00, -6.89701577e-01, -7.98262904e-04,  7.00062112e-01,\n",
       "        7.24813581e-01, -7.82664741e-01, -7.90720938e-01,  1.43692102e+00,\n",
       "        5.79149937e-01, -8.19563254e-02,  6.03715500e-01,  1.35067017e+00,\n",
       "        1.35928502e+00, -8.30685085e-01, -7.98879384e-01, -3.17535057e-02,\n",
       "        7.22589864e-01, -1.29263176e+00, -8.04127404e-01, -8.55494524e-01,\n",
       "       -7.55685662e-02,  7.17847726e-01,  1.36327553e+00, -1.96359818e-02,\n",
       "        6.08431271e-03,  1.45611500e+00,  1.35051546e+00, -1.28841492e+00,\n",
       "        1.44819677e+00, -1.29438799e+00, -6.09709442e-01, -8.65020031e-01,\n",
       "       -2.00412857e-02, -2.84215853e-02,  7.23349081e-01, -6.16957797e-02,\n",
       "       -1.60130037e-02, -1.29263176e+00,  8.00597198e-01, -1.30979702e+00,\n",
       "       -1.30979702e+00, -1.30464103e+00,  2.79041826e-03, -1.60130037e-02,\n",
       "       -1.29017115e+00,  6.16982492e-01, -7.01870799e-01,  8.71092599e-03,\n",
       "        1.37191900e+00, -7.67503572e-01,  7.23649982e-01, -6.78911712e-01,\n",
       "        1.31811977e+00, -1.28841492e+00,  5.93661402e-01,  1.47209388e+00,\n",
       "       -1.29263176e+00, -1.30464103e+00,  1.33627463e+00, -8.30552704e-01,\n",
       "        6.51374292e-03, -7.05209163e-01, -1.29263176e+00, -1.29263176e+00,\n",
       "        7.11902839e-01,  4.73781612e-02, -7.46271401e-01, -1.29263176e+00,\n",
       "        4.42464433e-03, -1.29438799e+00,  1.55346664e+00, -7.66752077e-01,\n",
       "       -2.03554401e-02, -2.10517394e-02,  7.46899475e-01,  1.35928502e+00,\n",
       "       -1.30464103e+00, -6.96091962e-01, -7.80714683e-01,  6.72997320e-01,\n",
       "        1.41572660e+00, -4.36272359e-03,  1.44346405e+00, -1.08038039e-02,\n",
       "       -8.14695702e-01, -7.88140594e-01, -1.29263176e+00,  5.97568580e-01,\n",
       "        1.43986375e+00, -1.30979702e+00,  1.42131075e+00, -1.28841492e+00,\n",
       "       -8.37872177e-01, -7.66752077e-01,  5.88212094e-02, -1.30979702e+00,\n",
       "        7.00062112e-01,  7.09333703e-01,  9.55577171e-02, -1.29263176e+00,\n",
       "       -6.16957797e-02,  7.18907844e-01,  7.33624903e-01,  6.31158087e-01,\n",
       "       -1.78710318e-03,  1.37067042e+00, -2.25003239e-02, -4.30466880e-01,\n",
       "        6.42737454e-01,  1.36162869e+00,  1.39094630e+00, -7.59640072e-01,\n",
       "        7.17443345e-01, -7.89901906e-01, -1.29263176e+00, -8.23990910e-03])"
      ]
     },
     "execution_count": 74,
     "metadata": {},
     "output_type": "execute_result"
    }
   ],
   "source": [
    "# Use this to verify the answer\n",
    "\n",
    "model.predict(scaler.transform(X))"
   ]
  },
  {
   "cell_type": "code",
   "execution_count": 97,
   "metadata": {
    "id": "43sc6bxfrcHP"
   },
   "outputs": [],
   "source": [
    "# Honestly I could not fix the problem. Sorry."
   ]
  }
 ],
 "metadata": {
  "colab": {
   "provenance": []
  },
  "kernelspec": {
   "display_name": "Python 3",
   "name": "python3"
  },
  "language_info": {
   "name": "python"
  }
 },
 "nbformat": 4,
 "nbformat_minor": 0
}
